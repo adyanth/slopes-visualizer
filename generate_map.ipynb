{
 "cells": [
  {
   "cell_type": "code",
   "execution_count": null,
   "metadata": {},
   "outputs": [],
   "source": [
    "# %pip install folium gpxpy\n",
    "import folium\n",
    "import folium.map\n",
    "import folium.plugins\n",
    "import folium.utilities\n",
    "import gpxpy\n",
    "import gpxpy.gpx"
   ]
  },
  {
   "cell_type": "code",
   "execution_count": null,
   "metadata": {},
   "outputs": [],
   "source": [
    "with open(\"sample.gpx\") as f:\n",
    "    g = gpxpy.parse(f)\n",
    "assert len(g.tracks) == 1, \"Need only one track\"\n",
    "track = g.tracks[0]\n",
    "track.name"
   ]
  },
  {
   "cell_type": "code",
   "execution_count": null,
   "metadata": {},
   "outputs": [],
   "source": [
    "# assert len(track.segments) % 2 == 0, \"Need even number of track segments\"\n",
    "tracksegs = track.segments if len(track.segments) % 2 == 0 else track.segments[1:]\n",
    "runs = [(lift, ski) for lift, ski in zip(*[iter(tracksegs)]*2)]\n",
    "start_run = runs[0][0]\n",
    "if len(track.segments) % 2 != 0:\n",
    "    runs = [(None, track.segments[0])] + runs\n",
    "    start_run = runs[0][1]\n",
    "len(runs)"
   ]
  },
  {
   "cell_type": "code",
   "execution_count": null,
   "metadata": {},
   "outputs": [],
   "source": [
    "# runs[0][0].points[0].extensions[0].attrib\n",
    "start_x, start_y = start_run.points[0].latitude, start_run.points[0].longitude\n",
    "# ski = runs[0][1]\n",
    "# print(ski.get_duration()) # sec\n",
    "# # runs[0][0].get_elevation_extremes().maximum\n",
    "# print(ski.get_moving_data())\n",
    "# print(ski.get_time_bounds())\n",
    "# ski.get_uphill_downhill()"
   ]
  },
  {
   "cell_type": "code",
   "execution_count": null,
   "metadata": {},
   "outputs": [],
   "source": [
    "m = folium.Map((start_x, start_y), tiles='USGS.USImageryTopo', attr='Tiles courtesy of the <a href=\"https://usgs.gov/\">U.S. Geological Survey</a>', max_zoom=20, control_scale=True, zoom_start=15)\n",
    "folium.TileLayer(overlay=True, tiles='OpenSnowMap.pistes', attr='Map data: &copy; <a href=\"https://www.openstreetmap.org/copyright\">OpenStreetMap</a> contributors & ODbL, &copy; <a href=\"https://www.opensnowmap.org/iframes/data.html\">www.opensnowmap.org</a> <a href=\"https://creativecommons.org/licenses/by-sa/2.0/\">CC-BY-SA</a>', min_zoom=9, max_zoom=18).add_to(m)\n",
    "folium.TileLayer(show=False, overlay=True, tiles='WaymarkedTrails.slopes', attr='Map data: &copy; <a href=\"https://www.openstreetmap.org/copyright\">OpenStreetMap</a> contributors | Map style: &copy; <a href=\"https://waymarkedtrails.org\">waymarkedtrails.org</a> (<a href=\"https://creativecommons.org/licenses/by-sa/3.0/\">CC-BY-SA</a>)', max_zoom=18).add_to(m)\n",
    "# m"
   ]
  },
  {
   "cell_type": "code",
   "execution_count": null,
   "metadata": {},
   "outputs": [],
   "source": [
    "point_speed = lambda pt: float(pt.extensions[0].attrib[\"speed\"])\n",
    "\n",
    "kw = {\"opacity\": 1.0, \"weight\": 6}\n",
    "for i, (lift, ski) in enumerate(runs):\n",
    "    # fg = folium.FeatureGroup(name=f\"Run {i+1}\", control=True, show=False if i else True).add_to(m)\n",
    "    fg = folium.FeatureGroup(name=f\"Run {i+1}\", control=True, show=True).add_to(m)\n",
    "    start, end = ski.points[0], ski.points[-1]\n",
    "    ele = ski.get_elevation_extremes()\n",
    "    folium.CircleMarker(\n",
    "        location=(start.latitude,start.longitude),\n",
    "        color=\"black\",\n",
    "        tooltip=f\"Starting Elevation: {ele.maximum}m\",\n",
    "    ).add_to(fg)\n",
    "    max_speed = point_speed(max(ski.points, key=point_speed))\n",
    "    text = f\"Ending Elevation: {ele.minimum:.2f}m\\n Drop: {ele.maximum - ele.minimum:.2f}m\\nDuration: {ski.get_duration() / 60:.2f}min\\nMax Speed: {max_speed:.2f}kmph\"\n",
    "    folium.CircleMarker(\n",
    "        location=(end.latitude,end.longitude),\n",
    "        color=\"red\",\n",
    "        tooltip=text,\n",
    "    ).add_to(fg)\n",
    "    if lift:\n",
    "        coords = map(lambda x: (x.latitude, x.longitude),  lift.points)\n",
    "        folium.PolyLine(coords, tooltip=\"Lift\", color=\"black\", **kw).add_to(fg)\n",
    "    coords = map(lambda x: (x.latitude, x.longitude),  ski.points)\n",
    "    moving = ski.get_moving_data()\n",
    "    text = f\"Max Speed: {max_speed:.2f}kmph\"\n",
    "    folium.PolyLine(coords, tooltip=\"Ski\", popup=text, color=\"red\", **kw).add_to(fg)\n",
    "\n",
    "geojson_datapoints = [pt for seg in track.segments for pt in seg.points]\n",
    "geojson_data = {\n",
    "    \"type\": \"FeatureCollection\",\n",
    "    \"features\": [\n",
    "        {\n",
    "            \"properties\": {\n",
    "                \"elevation\": pt.elevation,\n",
    "                \"speed\": point_speed(pt),\n",
    "                \"azimuth\": float(pt.extensions[0].attrib[\"azimuth\"]),\n",
    "                \"text\": f\"Elevation: {pt.elevation:.2f}m\\nSpeed: {point_speed(pt):.2f}kmph\",\n",
    "                \"start\": str(pt.time),\n",
    "                \"end\": str(\n",
    "                    geojson_datapoints[i+1].time\n",
    "                    if i < len(geojson_datapoints) - 1 \n",
    "                    else pt.time\n",
    "                ),\n",
    "                \"endExclusive\": i < len(geojson_datapoints) - 1\n",
    "            },\n",
    "            \"id\": i,\n",
    "            \"type\": \"Feature\",\n",
    "            \"geometry\": {\n",
    "                \"type\": \"Point\",\n",
    "                \"coordinates\": [pt.longitude, pt.latitude]\n",
    "            }\n",
    "        }\n",
    "        for i, pt in enumerate(geojson_datapoints)\n",
    "    ]\n",
    "}\n",
    "timeline = folium.plugins.timeline.Timeline(\n",
    "    geojson_data,\n",
    "    pointToLayer=folium.utilities.JsCode(\"\"\"\n",
    "        function (geoJsonPoint, latlng) {\n",
    "            console.log(geoJsonPoint, latlng);\n",
    "            let azimuth = geoJsonPoint.properties.azimuth;\n",
    "            var corrected_icon_azimuth = 334; // To make the icon horizontal\n",
    "            corrected_icon_azimuth += -90; // To make the icon point north\n",
    "            corrected_icon_azimuth += azimuth;\n",
    "            corrected_icon_azimuth = parseInt(corrected_icon_azimuth % 360);\n",
    "            return L.marker(latlng, {\n",
    "                icon: L.AwesomeMarkers.icon({\n",
    "                    prefix: \"fa\",\n",
    "                    icon: \"person-skiing\",\n",
    "                    extraClasses: `fa-rotate-${corrected_icon_azimuth}`\n",
    "                }),\n",
    "                alt: \"Skiier\",\n",
    "            }).bindTooltip(geoJsonPoint.properties.text, {\n",
    "                permanent: true,\n",
    "                // sticky: true // does not work\n",
    "            });\n",
    "        }\n",
    "    \"\"\"),\n",
    "    onEachFeature=folium.utilities.JsCode(\"\"\"\n",
    "        function (feature, layer) {\n",
    "        }\n",
    "    \"\"\"),\n",
    "    markersInheritOptions=True\n",
    ").add_to(m)\n",
    "folium.plugins.timeline.TimelineSlider(\n",
    "    auto_play=True,\n",
    "    show_ticks=True,\n",
    "    enable_keyboard_controls=True,\n",
    "    steps=len(geojson_datapoints),\n",
    "    # playback_duration=(geojson_datapoints[-1].time - geojson_datapoints[0].time).total_seconds() * 1000, # Realtime\n",
    "    playback_duration=(geojson_datapoints[-1].time - geojson_datapoints[0].time).total_seconds() * 50, # 10x\n",
    ").add_timelines(timeline).add_to(m)"
   ]
  },
  {
   "cell_type": "code",
   "execution_count": null,
   "metadata": {},
   "outputs": [],
   "source": [
    "folium.LayerControl().add_to(m)\n",
    "folium.plugins.Fullscreen(\n",
    "    position=\"topright\",\n",
    "    title=\"Expand\",\n",
    "    title_cancel=\"Exit\",\n",
    "    force_separate_button=True,\n",
    ").add_to(m)\n",
    "folium.FitOverlays().add_to(m)\n",
    "m"
   ]
  },
  {
   "cell_type": "code",
   "execution_count": null,
   "metadata": {},
   "outputs": [],
   "source": [
    "m.get_root().render()\n",
    "m.save(\"test.html\")"
   ]
  },
  {
   "cell_type": "code",
   "execution_count": null,
   "metadata": {},
   "outputs": [],
   "source": [
    "from pykml import parser\n",
    "import zipfile\n",
    "kmz = zipfile.ZipFile(\"sample.kmz\")\n",
    "kml = kmz.read(kmz.namelist()[0])\n",
    "# print(kml)\n",
    "root = parser.fromstring(kml)"
   ]
  },
  {
   "cell_type": "code",
   "execution_count": null,
   "metadata": {},
   "outputs": [],
   "source": [
    "for place in root.Document.Placemark:\n",
    "    print(place.name)\n",
    "    print(place.TimeSpan.begin,place.TimeSpan.end)\n",
    "    print(place.styleUrl)\n",
    "    print()"
   ]
  }
 ],
 "metadata": {
  "kernelspec": {
   "display_name": ".venv",
   "language": "python",
   "name": "python3"
  },
  "language_info": {
   "codemirror_mode": {
    "name": "ipython",
    "version": 3
   },
   "file_extension": ".py",
   "mimetype": "text/x-python",
   "name": "python",
   "nbconvert_exporter": "python",
   "pygments_lexer": "ipython3",
   "version": "3.13.1"
  }
 },
 "nbformat": 4,
 "nbformat_minor": 2
}
